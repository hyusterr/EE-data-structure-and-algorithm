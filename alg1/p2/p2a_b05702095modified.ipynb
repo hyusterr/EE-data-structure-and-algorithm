{
 "cells": [
  {
   "cell_type": "code",
   "execution_count": null,
   "metadata": {},
   "outputs": [],
   "source": [
    "\n",
    "import sys\n",
    "\n",
    "inputpath = sys.argv[1]\n",
    "outputpath = sys.argv[2]\n",
    "\n",
    "inp = open(inputpath, mode='r')\n",
    "file = inp.read()\n",
    "# print(file)\n",
    "\n",
    "s = [float(i) for i in file.split(\"\\n\")]\n",
    "# print(s)\n",
    "\n",
    "s.append(float('inf'))\n",
    "s = [float('inf')] + s\n",
    "# print(s)\n",
    "\n",
    "idxlist = []\n",
    "for idx in range(1, len(s) - 1):\n",
    "    if s[idx - 1] > s[idx] and s[idx + 1] > s[idx]:\n",
    "        idxlist.append(idx)\n",
    "\n",
    "# print(idxlist)\n",
    "# print(idxlist[0] - 1)\n",
    "ans = idxlist[0] - 1\n",
    "\n",
    "outputfile = open(outputpath, mode='w')\n",
    "outputfile.write(str(ans))\n",
    "outputfile.close()\n"
   ]
  }
 ],
 "metadata": {
  "kernelspec": {
   "display_name": "Python 3",
   "language": "python",
   "name": "python3"
  },
  "language_info": {
   "codemirror_mode": {
    "name": "ipython",
    "version": 3
   },
   "file_extension": ".py",
   "mimetype": "text/x-python",
   "name": "python",
   "nbconvert_exporter": "python",
   "pygments_lexer": "ipython3",
   "version": "3.6.4"
  }
 },
 "nbformat": 4,
 "nbformat_minor": 2
}
