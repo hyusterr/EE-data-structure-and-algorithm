{
 "cells": [
  {
   "cell_type": "code",
   "execution_count": null,
   "metadata": {},
   "outputs": [],
   "source": [
    "\n",
    "import sys\n",
    "\n",
    "inputpath = sys.argv[1]\n",
    "outputpath = sys.argv[2]\n",
    "\n",
    "inp = open(inputpath, mode='r')\n",
    "file = inp.read()\n",
    "\n",
    "def findavalley(s):\n",
    "    \n",
    "    s = [float(\"inf\")] + s + [float(\"inf\")]\n",
    "    m = int(len(s) / 2)\n",
    "    if s[m] <= s[m + 1] and s[m] <= s[m - 1]:\n",
    "        return m - 1\n",
    "    else:\n",
    "        if s[m - 1] <= s[m]:\n",
    "            return findavalley(s[:m])\n",
    "        elif s[m + 1] <= s[m]:\n",
    "            return findavalley(s[m+1:])\n",
    "\n",
    "string = [float(i) for i in file.split()]\n",
    "ans = findavalley(string)\n",
    "\n",
    "outputfile = open(outputpath, mode='w')\n",
    "outputfile.write(str(ans))\n",
    "outputfile.close()\n"
   ]
  },
  {
   "cell_type": "code",
   "execution_count": 8,
   "metadata": {},
   "outputs": [
    {
     "name": "stdout",
     "output_type": "stream",
     "text": [
      "100 99 88 77 66 55 54 53 52 51 50 19 18 17 16 18 15 84 15 6\n",
      "15\n"
     ]
    }
   ],
   "source": [
    "string = [float(i) for i in input().split()]\n",
    "\n",
    "def findavalley(s):\n",
    "    \n",
    "    s = [float(\"inf\")] + s + [float(\"inf\")]\n",
    "    m = int(len(s) / 2)\n",
    "    \n",
    "    if s[m] <= s[m + 1] and s[m] <= s[m - 1]:\n",
    "        ans = s[m]\n",
    "        return string.index(ans) - 1\n",
    "    else:\n",
    "        if s[m - 1] <= s[m]:\n",
    "            return findavalley(s[:m])\n",
    "        elif s[m + 1] <= s[m]:\n",
    "            return findavalley(s[m+1:])\n",
    "        \n",
    "print(findavalley(string))"
   ]
  },
  {
   "cell_type": "code",
   "execution_count": 4,
   "metadata": {},
   "outputs": [
    {
     "name": "stdout",
     "output_type": "stream",
     "text": [
      "5\n"
     ]
    }
   ],
   "source": [
    "string = [2, 6, 10, 12, 3, 7, 9, 12]\n",
    "print(findavalley(string))"
   ]
  }
 ],
 "metadata": {
  "kernelspec": {
   "display_name": "Python 3",
   "language": "python",
   "name": "python3"
  },
  "language_info": {
   "codemirror_mode": {
    "name": "ipython",
    "version": 3
   },
   "file_extension": ".py",
   "mimetype": "text/x-python",
   "name": "python",
   "nbconvert_exporter": "python",
   "pygments_lexer": "ipython3",
   "version": "3.6.4"
  }
 },
 "nbformat": 4,
 "nbformat_minor": 2
}
